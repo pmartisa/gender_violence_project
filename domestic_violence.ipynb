{
 "cells": [
  {
   "cell_type": "markdown",
   "id": "a986418d",
   "metadata": {},
   "source": [
    "# The other epidemic: women killed by an intimate partner or ex-partner in domestic homicides\n",
    "## A case study of Spain since 2003, when national data started to be collected\n"
   ]
  },
  {
   "cell_type": "markdown",
   "id": "2394c435",
   "metadata": {},
   "source": [
    "I have always been interested in researching the history of domestic violence in my home country (total fatal victims over time, trends, number of police complaints, etc.) as well as of vicarious violence, more specifically (this is the number of children killed either by their fathers or their mum's current romantic or ex-romantic partner). "
   ]
  },
  {
   "cell_type": "markdown",
   "id": "2990af36",
   "metadata": {},
   "source": [
    "### My first step was to download and save all the pdfs with official data from the Ministry of Equality in Spain. At first, I didn't find any better file (excel, csv...) of official data, so I used #pathlib to automate the download"
   ]
  },
  {
   "cell_type": "code",
   "execution_count": 1,
   "id": "1fcbf196",
   "metadata": {},
   "outputs": [],
   "source": [
    "import requests\n",
    "import pandas as pd\n",
    "from pathlib import Path\n",
    "from tqdm.auto import tqdm"
   ]
  },
  {
   "cell_type": "code",
   "execution_count": 2,
   "id": "60bed702",
   "metadata": {
    "scrolled": false
   },
   "outputs": [],
   "source": [
    "# we read our pdfs without spaces thanks to .splitlines()\n",
    "# urls = open(\"files.txt\").read().splitlines()"
   ]
  },
  {
   "cell_type": "code",
   "execution_count": 3,
   "id": "56603e26",
   "metadata": {},
   "outputs": [],
   "source": [
    "# we create a new folder for all our files\n",
    "# download_dir =Path('files')\n",
    "# download_dir.mkdir(parents=True, exist_ok=True)"
   ]
  },
  {
   "cell_type": "code",
   "execution_count": 4,
   "id": "c73d2fa3",
   "metadata": {
    "scrolled": false
   },
   "outputs": [],
   "source": [
    "#for url in tqdm(urls):\n",
    "    # put out the filename and request that url\n",
    "#     filename = Path(url).name\n",
    "#     response = requests.get(url)\n",
    "#     # save it to your computer with the same filename\n",
    "#     download_dir.joinpath(filename).write_bytes(response.content)"
   ]
  },
  {
   "cell_type": "markdown",
   "id": "4a04c102",
   "metadata": {},
   "source": [
    "### After, I was actually able to download official data on domestic violence from the  National Institute of Statistics (INE, in Spanish), which allowed me to create different .csv files with the information I was interested"
   ]
  },
  {
   "cell_type": "code",
   "execution_count": 5,
   "id": "29bf4a13",
   "metadata": {
    "scrolled": true
   },
   "outputs": [
    {
     "data": {
      "text/html": [
       "<div>\n",
       "<style scoped>\n",
       "    .dataframe tbody tr th:only-of-type {\n",
       "        vertical-align: middle;\n",
       "    }\n",
       "\n",
       "    .dataframe tbody tr th {\n",
       "        vertical-align: top;\n",
       "    }\n",
       "\n",
       "    .dataframe thead th {\n",
       "        text-align: right;\n",
       "    }\n",
       "</style>\n",
       "<table border=\"1\" class=\"dataframe\">\n",
       "  <thead>\n",
       "    <tr style=\"text-align: right;\">\n",
       "      <th></th>\n",
       "      <th>year</th>\n",
       "      <th>Denuncia agresor</th>\n",
       "      <th>autonomous_community</th>\n",
       "      <th>age</th>\n",
       "      <th>women_killed</th>\n",
       "    </tr>\n",
       "  </thead>\n",
       "  <tbody>\n",
       "    <tr>\n",
       "      <th>0</th>\n",
       "      <td>Año 2003</td>\n",
       "      <td>No consta denuncia</td>\n",
       "      <td>Andalucía</td>\n",
       "      <td>21-30 años</td>\n",
       "      <td>3.0</td>\n",
       "    </tr>\n",
       "    <tr>\n",
       "      <th>1</th>\n",
       "      <td>Año 2003</td>\n",
       "      <td>No consta denuncia</td>\n",
       "      <td>Andalucía</td>\n",
       "      <td>31-40 años</td>\n",
       "      <td>4.0</td>\n",
       "    </tr>\n",
       "    <tr>\n",
       "      <th>2</th>\n",
       "      <td>Año 2003</td>\n",
       "      <td>No consta denuncia</td>\n",
       "      <td>Andalucía</td>\n",
       "      <td>41-50 años</td>\n",
       "      <td>3.0</td>\n",
       "    </tr>\n",
       "    <tr>\n",
       "      <th>3</th>\n",
       "      <td>Año 2003</td>\n",
       "      <td>No consta denuncia</td>\n",
       "      <td>Andalucía</td>\n",
       "      <td>71-84 años</td>\n",
       "      <td>2.0</td>\n",
       "    </tr>\n",
       "    <tr>\n",
       "      <th>4</th>\n",
       "      <td>Año 2003</td>\n",
       "      <td>No consta denuncia</td>\n",
       "      <td>Andalucía</td>\n",
       "      <td>&gt;=85 años</td>\n",
       "      <td>1.0</td>\n",
       "    </tr>\n",
       "  </tbody>\n",
       "</table>\n",
       "</div>"
      ],
      "text/plain": [
       "       year    Denuncia agresor autonomous_community         age  women_killed\n",
       "0  Año 2003  No consta denuncia            Andalucía  21-30 años           3.0\n",
       "1  Año 2003  No consta denuncia            Andalucía  31-40 años           4.0\n",
       "2  Año 2003  No consta denuncia            Andalucía  41-50 años           3.0\n",
       "3  Año 2003  No consta denuncia            Andalucía  71-84 años           2.0\n",
       "4  Año 2003  No consta denuncia            Andalucía   >=85 años           1.0"
      ]
     },
     "execution_count": 5,
     "metadata": {},
     "output_type": "execute_result"
    }
   ],
   "source": [
    "df = pd.read_csv('export.csv')\n",
    "df.head()"
   ]
  },
  {
   "cell_type": "code",
   "execution_count": 6,
   "id": "65c3d7b9",
   "metadata": {
    "scrolled": true
   },
   "outputs": [
    {
     "data": {
      "text/plain": [
       "Andalucía                     124\n",
       "Cataluña                      105\n",
       "Comunitat Valenciana          102\n",
       "Comunidad de Madrid            87\n",
       "Canarias                       60\n",
       "Galicia                        54\n",
       "Castilla y León                46\n",
       "Castilla - La Mancha           42\n",
       "País Vasco                     36\n",
       "Illes Balears                  32\n",
       "Región de Murcia               32\n",
       "Principado de Asturias         25\n",
       "Aragón                         25\n",
       "Comunidad Foral de Navarra     14\n",
       "Cantabria                      10\n",
       "Extremadura                    10\n",
       "La Rioja                        6\n",
       "Melilla                         5\n",
       "Ceuta                           2\n",
       "Name: autonomous_community, dtype: int64"
      ]
     },
     "execution_count": 6,
     "metadata": {},
     "output_type": "execute_result"
    }
   ],
   "source": [
    "# I check I have all the Spanish autonomous communities on my data\n",
    "df['autonomous_community'].value_counts()"
   ]
  },
  {
   "cell_type": "code",
   "execution_count": 7,
   "id": "07eda1b7",
   "metadata": {},
   "outputs": [],
   "source": [
    "## clean a bit the data and traslated into English\n",
    "df['year'] = df['year'].str.replace('Año', '').astype(int)\n",
    "df['women_killed'] = df['women_killed'].astype(int)\n",
    "df['age'] = df['age'].str.replace('años', '').replace('No consta', 'unknown')"
   ]
  },
  {
   "cell_type": "code",
   "execution_count": 8,
   "id": "3bb8b220",
   "metadata": {
    "scrolled": false
   },
   "outputs": [
    {
     "data": {
      "text/html": [
       "<div>\n",
       "<style scoped>\n",
       "    .dataframe tbody tr th:only-of-type {\n",
       "        vertical-align: middle;\n",
       "    }\n",
       "\n",
       "    .dataframe tbody tr th {\n",
       "        vertical-align: top;\n",
       "    }\n",
       "\n",
       "    .dataframe thead th {\n",
       "        text-align: right;\n",
       "    }\n",
       "</style>\n",
       "<table border=\"1\" class=\"dataframe\">\n",
       "  <thead>\n",
       "    <tr style=\"text-align: right;\">\n",
       "      <th></th>\n",
       "      <th>year</th>\n",
       "      <th>Denuncia agresor</th>\n",
       "      <th>autonomous_community</th>\n",
       "      <th>age</th>\n",
       "      <th>women_killed</th>\n",
       "    </tr>\n",
       "  </thead>\n",
       "  <tbody>\n",
       "    <tr>\n",
       "      <th>0</th>\n",
       "      <td>2003</td>\n",
       "      <td>No consta denuncia</td>\n",
       "      <td>Andalucía</td>\n",
       "      <td>21-30</td>\n",
       "      <td>3</td>\n",
       "    </tr>\n",
       "    <tr>\n",
       "      <th>1</th>\n",
       "      <td>2003</td>\n",
       "      <td>No consta denuncia</td>\n",
       "      <td>Andalucía</td>\n",
       "      <td>31-40</td>\n",
       "      <td>4</td>\n",
       "    </tr>\n",
       "    <tr>\n",
       "      <th>2</th>\n",
       "      <td>2003</td>\n",
       "      <td>No consta denuncia</td>\n",
       "      <td>Andalucía</td>\n",
       "      <td>41-50</td>\n",
       "      <td>3</td>\n",
       "    </tr>\n",
       "    <tr>\n",
       "      <th>3</th>\n",
       "      <td>2003</td>\n",
       "      <td>No consta denuncia</td>\n",
       "      <td>Andalucía</td>\n",
       "      <td>71-84</td>\n",
       "      <td>2</td>\n",
       "    </tr>\n",
       "    <tr>\n",
       "      <th>4</th>\n",
       "      <td>2003</td>\n",
       "      <td>No consta denuncia</td>\n",
       "      <td>Andalucía</td>\n",
       "      <td>&gt;=85</td>\n",
       "      <td>1</td>\n",
       "    </tr>\n",
       "  </tbody>\n",
       "</table>\n",
       "</div>"
      ],
      "text/plain": [
       "   year    Denuncia agresor autonomous_community     age  women_killed\n",
       "0  2003  No consta denuncia            Andalucía  21-30              3\n",
       "1  2003  No consta denuncia            Andalucía  31-40              4\n",
       "2  2003  No consta denuncia            Andalucía  41-50              3\n",
       "3  2003  No consta denuncia            Andalucía  71-84              2\n",
       "4  2003  No consta denuncia            Andalucía   >=85              1"
      ]
     },
     "execution_count": 8,
     "metadata": {},
     "output_type": "execute_result"
    }
   ],
   "source": [
    "df.head()"
   ]
  },
  {
   "cell_type": "code",
   "execution_count": 9,
   "id": "09abf739",
   "metadata": {},
   "outputs": [],
   "source": [
    "#df.to_csv(\"pre_complaint.csv\", index=False)"
   ]
  },
  {
   "cell_type": "code",
   "execution_count": 10,
   "id": "757622c7",
   "metadata": {
    "scrolled": true
   },
   "outputs": [
    {
     "data": {
      "text/html": [
       "<div>\n",
       "<style scoped>\n",
       "    .dataframe tbody tr th:only-of-type {\n",
       "        vertical-align: middle;\n",
       "    }\n",
       "\n",
       "    .dataframe tbody tr th {\n",
       "        vertical-align: top;\n",
       "    }\n",
       "\n",
       "    .dataframe thead th {\n",
       "        text-align: right;\n",
       "    }\n",
       "</style>\n",
       "<table border=\"1\" class=\"dataframe\">\n",
       "  <thead>\n",
       "    <tr style=\"text-align: right;\">\n",
       "      <th></th>\n",
       "      <th>year</th>\n",
       "      <th>autonomous_community</th>\n",
       "      <th>women_killed</th>\n",
       "    </tr>\n",
       "  </thead>\n",
       "  <tbody>\n",
       "    <tr>\n",
       "      <th>0</th>\n",
       "      <td>2003</td>\n",
       "      <td>Andalucía</td>\n",
       "      <td>13</td>\n",
       "    </tr>\n",
       "    <tr>\n",
       "      <th>1</th>\n",
       "      <td>2003</td>\n",
       "      <td>Aragón</td>\n",
       "      <td>2</td>\n",
       "    </tr>\n",
       "    <tr>\n",
       "      <th>2</th>\n",
       "      <td>2003</td>\n",
       "      <td>Canarias</td>\n",
       "      <td>6</td>\n",
       "    </tr>\n",
       "    <tr>\n",
       "      <th>3</th>\n",
       "      <td>2003</td>\n",
       "      <td>Cantabria</td>\n",
       "      <td>1</td>\n",
       "    </tr>\n",
       "    <tr>\n",
       "      <th>4</th>\n",
       "      <td>2003</td>\n",
       "      <td>Castilla - La Mancha</td>\n",
       "      <td>2</td>\n",
       "    </tr>\n",
       "  </tbody>\n",
       "</table>\n",
       "</div>"
      ],
      "text/plain": [
       "   year  autonomous_community  women_killed\n",
       "0  2003             Andalucía            13\n",
       "1  2003                Aragón             2\n",
       "2  2003              Canarias             6\n",
       "3  2003             Cantabria             1\n",
       "4  2003  Castilla - La Mancha             2"
      ]
     },
     "execution_count": 10,
     "metadata": {},
     "output_type": "execute_result"
    }
   ],
   "source": [
    "# groupby by year and total number of women killed by autonomous community (similar to USA states)\n",
    "df =df.groupby(['year', 'autonomous_community']).women_killed.sum().to_frame().reset_index()\n",
    "df.head()"
   ]
  },
  {
   "cell_type": "code",
   "execution_count": 11,
   "id": "35f9acb8",
   "metadata": {},
   "outputs": [
    {
     "data": {
      "text/plain": [
       "1129"
      ]
     },
     "execution_count": 11,
     "metadata": {},
     "output_type": "execute_result"
    }
   ],
   "source": [
    "df.women_killed.sum()"
   ]
  },
  {
   "cell_type": "markdown",
   "id": "db03db01",
   "metadata": {},
   "source": [
    "### We want to get another dataframe with the total population per autonomous community, so we are able to calculate the number of homicides per 100,000 women. We download the data  the INE"
   ]
  },
  {
   "cell_type": "code",
   "execution_count": 12,
   "id": "da97f5b7",
   "metadata": {
    "scrolled": true
   },
   "outputs": [
    {
     "data": {
      "text/html": [
       "<div>\n",
       "<style scoped>\n",
       "    .dataframe tbody tr th:only-of-type {\n",
       "        vertical-align: middle;\n",
       "    }\n",
       "\n",
       "    .dataframe tbody tr th {\n",
       "        vertical-align: top;\n",
       "    }\n",
       "\n",
       "    .dataframe thead th {\n",
       "        text-align: right;\n",
       "    }\n",
       "</style>\n",
       "<table border=\"1\" class=\"dataframe\">\n",
       "  <thead>\n",
       "    <tr style=\"text-align: right;\">\n",
       "      <th></th>\n",
       "      <th>Comunidades</th>\n",
       "      <th>Año</th>\n",
       "      <th>Total</th>\n",
       "    </tr>\n",
       "  </thead>\n",
       "  <tbody>\n",
       "    <tr>\n",
       "      <th>0</th>\n",
       "      <td>ANDALUCÍA</td>\n",
       "      <td>2021</td>\n",
       "      <td>4.299.068</td>\n",
       "    </tr>\n",
       "    <tr>\n",
       "      <th>1</th>\n",
       "      <td>ANDALUCÍA</td>\n",
       "      <td>2020</td>\n",
       "      <td>4.293.806</td>\n",
       "    </tr>\n",
       "    <tr>\n",
       "      <th>2</th>\n",
       "      <td>ANDALUCÍA</td>\n",
       "      <td>2019</td>\n",
       "      <td>4.267.073</td>\n",
       "    </tr>\n",
       "    <tr>\n",
       "      <th>3</th>\n",
       "      <td>ANDALUCÍA</td>\n",
       "      <td>2018</td>\n",
       "      <td>4.250.510</td>\n",
       "    </tr>\n",
       "    <tr>\n",
       "      <th>4</th>\n",
       "      <td>ANDALUCÍA</td>\n",
       "      <td>2017</td>\n",
       "      <td>4.245.985</td>\n",
       "    </tr>\n",
       "  </tbody>\n",
       "</table>\n",
       "</div>"
      ],
      "text/plain": [
       "  Comunidades   Año      Total\n",
       "0   ANDALUCÍA  2021  4.299.068\n",
       "1   ANDALUCÍA  2020  4.293.806\n",
       "2   ANDALUCÍA  2019  4.267.073\n",
       "3   ANDALUCÍA  2018  4.250.510\n",
       "4   ANDALUCÍA  2017  4.245.985"
      ]
     },
     "execution_count": 12,
     "metadata": {},
     "output_type": "execute_result"
    }
   ],
   "source": [
    "total_popu = pd.read_csv('total_population.csv')\n",
    "total_popu.head()"
   ]
  },
  {
   "cell_type": "code",
   "execution_count": 13,
   "id": "c9c4cbb5",
   "metadata": {
    "scrolled": true
   },
   "outputs": [],
   "source": [
    "# traslate values into English\n",
    "total_popu['Comunidades'] = total_popu['Comunidades'].replace({'ANDALUCÍA':'Andalucía', 'EXTREMADURA':'Extremadura', 'CEUTA':'Ceuta', 'RIOJA, LA':'La Rioja', 'PAÍS VASCO':'País Vasco', 'NAVARRA, COMUNIDAD FORAL DE':'Comunidad Foral de Navarra', 'MURCIA, REGIÓN DE':'Región de Murcia', 'MADRID, COMUNIDAD DE':'Comunidad de Madrid', 'GALICIA':'Galicia',\n",
    "                                                               'COMUNITAT VALENCIANA':'Comunitat Valenciana', 'ARAGÓN':'Aragón', 'CATALUÑA':'Cataluña', 'CASTILLA - LA MANCHA':'Castilla - La Mancha', 'CASTILLA Y LEÓN':'Castilla y León', 'CANTABRIA':'Cantabria','CANARIAS':'Canarias','BALEARS, ILLES':'Illes Balears', 'ASTURIAS, PRINCIPADO DE':'Principado de Asturias', 'MELILLA':'Melilla'})\n"
   ]
  },
  {
   "cell_type": "code",
   "execution_count": 14,
   "id": "7d4ea772",
   "metadata": {},
   "outputs": [],
   "source": [
    "total_popu = total_popu.rename(columns={'Comunidades': 'autonomous_community', 'Año': 'year', 'Total': 'female_population'})"
   ]
  },
  {
   "cell_type": "code",
   "execution_count": 15,
   "id": "ce639299",
   "metadata": {},
   "outputs": [
    {
     "name": "stderr",
     "output_type": "stream",
     "text": [
      "/var/folders/mm/7r7tnzn90cxcfg9kflk_94qc0000gn/T/ipykernel_10921/2999102329.py:2: FutureWarning: The default value of regex will change from True to False in a future version. In addition, single character regular expressions will *not* be treated as literal strings when regex=True.\n",
      "  total_popu.female_population = total_popu.female_population.str.replace(\".\", \"\").astype(int)\n"
     ]
    }
   ],
   "source": [
    "# convert total population into integer\n",
    "total_popu.female_population = total_popu.female_population.str.replace(\".\", \"\").astype(int)"
   ]
  },
  {
   "cell_type": "code",
   "execution_count": 16,
   "id": "4b31a265",
   "metadata": {
    "scrolled": true
   },
   "outputs": [
    {
     "data": {
      "text/html": [
       "<div>\n",
       "<style scoped>\n",
       "    .dataframe tbody tr th:only-of-type {\n",
       "        vertical-align: middle;\n",
       "    }\n",
       "\n",
       "    .dataframe tbody tr th {\n",
       "        vertical-align: top;\n",
       "    }\n",
       "\n",
       "    .dataframe thead th {\n",
       "        text-align: right;\n",
       "    }\n",
       "</style>\n",
       "<table border=\"1\" class=\"dataframe\">\n",
       "  <thead>\n",
       "    <tr style=\"text-align: right;\">\n",
       "      <th></th>\n",
       "      <th>year</th>\n",
       "      <th>autonomous_community</th>\n",
       "      <th>female_population</th>\n",
       "    </tr>\n",
       "  </thead>\n",
       "  <tbody>\n",
       "    <tr>\n",
       "      <th>0</th>\n",
       "      <td>2003</td>\n",
       "      <td>Andalucía</td>\n",
       "      <td>3849478</td>\n",
       "    </tr>\n",
       "    <tr>\n",
       "      <th>1</th>\n",
       "      <td>2003</td>\n",
       "      <td>Aragón</td>\n",
       "      <td>619880</td>\n",
       "    </tr>\n",
       "    <tr>\n",
       "      <th>2</th>\n",
       "      <td>2003</td>\n",
       "      <td>Canarias</td>\n",
       "      <td>944709</td>\n",
       "    </tr>\n",
       "    <tr>\n",
       "      <th>3</th>\n",
       "      <td>2003</td>\n",
       "      <td>Cantabria</td>\n",
       "      <td>281381</td>\n",
       "    </tr>\n",
       "    <tr>\n",
       "      <th>4</th>\n",
       "      <td>2003</td>\n",
       "      <td>Castilla - La Mancha</td>\n",
       "      <td>908125</td>\n",
       "    </tr>\n",
       "    <tr>\n",
       "      <th>...</th>\n",
       "      <td>...</td>\n",
       "      <td>...</td>\n",
       "      <td>...</td>\n",
       "    </tr>\n",
       "    <tr>\n",
       "      <th>356</th>\n",
       "      <td>2021</td>\n",
       "      <td>La Rioja</td>\n",
       "      <td>161973</td>\n",
       "    </tr>\n",
       "    <tr>\n",
       "      <th>357</th>\n",
       "      <td>2021</td>\n",
       "      <td>Melilla</td>\n",
       "      <td>42658</td>\n",
       "    </tr>\n",
       "    <tr>\n",
       "      <th>358</th>\n",
       "      <td>2021</td>\n",
       "      <td>País Vasco</td>\n",
       "      <td>1137608</td>\n",
       "    </tr>\n",
       "    <tr>\n",
       "      <th>359</th>\n",
       "      <td>2021</td>\n",
       "      <td>Principado de Asturias</td>\n",
       "      <td>529127</td>\n",
       "    </tr>\n",
       "    <tr>\n",
       "      <th>360</th>\n",
       "      <td>2021</td>\n",
       "      <td>Región de Murcia</td>\n",
       "      <td>758124</td>\n",
       "    </tr>\n",
       "  </tbody>\n",
       "</table>\n",
       "<p>361 rows × 3 columns</p>\n",
       "</div>"
      ],
      "text/plain": [
       "     year    autonomous_community  female_population\n",
       "0    2003               Andalucía            3849478\n",
       "1    2003                  Aragón             619880\n",
       "2    2003                Canarias             944709\n",
       "3    2003               Cantabria             281381\n",
       "4    2003    Castilla - La Mancha             908125\n",
       "..    ...                     ...                ...\n",
       "356  2021                La Rioja             161973\n",
       "357  2021                 Melilla              42658\n",
       "358  2021              País Vasco            1137608\n",
       "359  2021  Principado de Asturias             529127\n",
       "360  2021        Región de Murcia             758124\n",
       "\n",
       "[361 rows x 3 columns]"
      ]
     },
     "execution_count": 16,
     "metadata": {},
     "output_type": "execute_result"
    }
   ],
   "source": [
    "# group by year and territory\n",
    "total_popu.groupby(['year', 'autonomous_community']).female_population.sum().to_frame().reset_index()"
   ]
  },
  {
   "cell_type": "code",
   "execution_count": 17,
   "id": "e008a202",
   "metadata": {
    "scrolled": true
   },
   "outputs": [
    {
     "data": {
      "text/html": [
       "<div>\n",
       "<style scoped>\n",
       "    .dataframe tbody tr th:only-of-type {\n",
       "        vertical-align: middle;\n",
       "    }\n",
       "\n",
       "    .dataframe tbody tr th {\n",
       "        vertical-align: top;\n",
       "    }\n",
       "\n",
       "    .dataframe thead th {\n",
       "        text-align: right;\n",
       "    }\n",
       "</style>\n",
       "<table border=\"1\" class=\"dataframe\">\n",
       "  <thead>\n",
       "    <tr style=\"text-align: right;\">\n",
       "      <th></th>\n",
       "      <th>year</th>\n",
       "      <th>autonomous_community</th>\n",
       "      <th>women_killed</th>\n",
       "      <th>female_population</th>\n",
       "    </tr>\n",
       "  </thead>\n",
       "  <tbody>\n",
       "    <tr>\n",
       "      <th>0</th>\n",
       "      <td>2003</td>\n",
       "      <td>Andalucía</td>\n",
       "      <td>13</td>\n",
       "      <td>3849478</td>\n",
       "    </tr>\n",
       "    <tr>\n",
       "      <th>1</th>\n",
       "      <td>2003</td>\n",
       "      <td>Aragón</td>\n",
       "      <td>2</td>\n",
       "      <td>619880</td>\n",
       "    </tr>\n",
       "    <tr>\n",
       "      <th>2</th>\n",
       "      <td>2003</td>\n",
       "      <td>Canarias</td>\n",
       "      <td>6</td>\n",
       "      <td>944709</td>\n",
       "    </tr>\n",
       "    <tr>\n",
       "      <th>3</th>\n",
       "      <td>2003</td>\n",
       "      <td>Cantabria</td>\n",
       "      <td>1</td>\n",
       "      <td>281381</td>\n",
       "    </tr>\n",
       "    <tr>\n",
       "      <th>4</th>\n",
       "      <td>2003</td>\n",
       "      <td>Castilla - La Mancha</td>\n",
       "      <td>2</td>\n",
       "      <td>908125</td>\n",
       "    </tr>\n",
       "  </tbody>\n",
       "</table>\n",
       "</div>"
      ],
      "text/plain": [
       "   year  autonomous_community  women_killed  female_population\n",
       "0  2003             Andalucía            13            3849478\n",
       "1  2003                Aragón             2             619880\n",
       "2  2003              Canarias             6             944709\n",
       "3  2003             Cantabria             1             281381\n",
       "4  2003  Castilla - La Mancha             2             908125"
      ]
     },
     "execution_count": 17,
     "metadata": {},
     "output_type": "execute_result"
    }
   ],
   "source": [
    "# merge both dataframes: women killed and total population\n",
    "df_merged = df.merge(total_popu, how='inner',on=(['year', 'autonomous_community']))\n",
    "df_merged.head()"
   ]
  },
  {
   "cell_type": "code",
   "execution_count": 18,
   "id": "9e05ed4b",
   "metadata": {},
   "outputs": [
    {
     "data": {
      "text/html": [
       "<div>\n",
       "<style scoped>\n",
       "    .dataframe tbody tr th:only-of-type {\n",
       "        vertical-align: middle;\n",
       "    }\n",
       "\n",
       "    .dataframe tbody tr th {\n",
       "        vertical-align: top;\n",
       "    }\n",
       "\n",
       "    .dataframe thead th {\n",
       "        text-align: right;\n",
       "    }\n",
       "</style>\n",
       "<table border=\"1\" class=\"dataframe\">\n",
       "  <thead>\n",
       "    <tr style=\"text-align: right;\">\n",
       "      <th></th>\n",
       "      <th>year</th>\n",
       "      <th>autonomous_community</th>\n",
       "      <th>women_killed</th>\n",
       "      <th>female_population</th>\n",
       "      <th>homicide_rate_100k</th>\n",
       "    </tr>\n",
       "  </thead>\n",
       "  <tbody>\n",
       "    <tr>\n",
       "      <th>0</th>\n",
       "      <td>2003</td>\n",
       "      <td>Andalucía</td>\n",
       "      <td>13</td>\n",
       "      <td>3849478</td>\n",
       "      <td>0.338</td>\n",
       "    </tr>\n",
       "    <tr>\n",
       "      <th>1</th>\n",
       "      <td>2003</td>\n",
       "      <td>Aragón</td>\n",
       "      <td>2</td>\n",
       "      <td>619880</td>\n",
       "      <td>0.323</td>\n",
       "    </tr>\n",
       "    <tr>\n",
       "      <th>2</th>\n",
       "      <td>2003</td>\n",
       "      <td>Canarias</td>\n",
       "      <td>6</td>\n",
       "      <td>944709</td>\n",
       "      <td>0.635</td>\n",
       "    </tr>\n",
       "    <tr>\n",
       "      <th>3</th>\n",
       "      <td>2003</td>\n",
       "      <td>Cantabria</td>\n",
       "      <td>1</td>\n",
       "      <td>281381</td>\n",
       "      <td>0.355</td>\n",
       "    </tr>\n",
       "    <tr>\n",
       "      <th>4</th>\n",
       "      <td>2003</td>\n",
       "      <td>Castilla - La Mancha</td>\n",
       "      <td>2</td>\n",
       "      <td>908125</td>\n",
       "      <td>0.220</td>\n",
       "    </tr>\n",
       "  </tbody>\n",
       "</table>\n",
       "</div>"
      ],
      "text/plain": [
       "   year  autonomous_community  women_killed  female_population  \\\n",
       "0  2003             Andalucía            13            3849478   \n",
       "1  2003                Aragón             2             619880   \n",
       "2  2003              Canarias             6             944709   \n",
       "3  2003             Cantabria             1             281381   \n",
       "4  2003  Castilla - La Mancha             2             908125   \n",
       "\n",
       "   homicide_rate_100k  \n",
       "0               0.338  \n",
       "1               0.323  \n",
       "2               0.635  \n",
       "3               0.355  \n",
       "4               0.220  "
      ]
     },
     "execution_count": 18,
     "metadata": {},
     "output_type": "execute_result"
    }
   ],
   "source": [
    "# calculate percentage of women killed in each territory by 100,000 female inhabitants\n",
    "df_merged['homicide_rate_100k'] = round((df_merged.women_killed / df_merged.female_population) * 100000, 3)\n",
    "df_merged.head()"
   ]
  },
  {
   "cell_type": "code",
   "execution_count": 19,
   "id": "2058ca2c",
   "metadata": {
    "scrolled": false
   },
   "outputs": [
    {
     "data": {
      "text/html": [
       "<div>\n",
       "<style scoped>\n",
       "    .dataframe tbody tr th:only-of-type {\n",
       "        vertical-align: middle;\n",
       "    }\n",
       "\n",
       "    .dataframe tbody tr th {\n",
       "        vertical-align: top;\n",
       "    }\n",
       "\n",
       "    .dataframe thead th {\n",
       "        text-align: right;\n",
       "    }\n",
       "</style>\n",
       "<table border=\"1\" class=\"dataframe\">\n",
       "  <thead>\n",
       "    <tr style=\"text-align: right;\">\n",
       "      <th></th>\n",
       "      <th>autonomous_community</th>\n",
       "      <th>homicide_rate_100k</th>\n",
       "    </tr>\n",
       "  </thead>\n",
       "  <tbody>\n",
       "    <tr>\n",
       "      <th>9</th>\n",
       "      <td>Comunidad de Madrid</td>\n",
       "      <td>0.187</td>\n",
       "    </tr>\n",
       "    <tr>\n",
       "      <th>11</th>\n",
       "      <td>Extremadura</td>\n",
       "      <td>0.200</td>\n",
       "    </tr>\n",
       "    <tr>\n",
       "      <th>16</th>\n",
       "      <td>País Vasco</td>\n",
       "      <td>0.201</td>\n",
       "    </tr>\n",
       "    <tr>\n",
       "      <th>5</th>\n",
       "      <td>Castilla y León</td>\n",
       "      <td>0.242</td>\n",
       "    </tr>\n",
       "    <tr>\n",
       "      <th>6</th>\n",
       "      <td>Cataluña</td>\n",
       "      <td>0.251</td>\n",
       "    </tr>\n",
       "    <tr>\n",
       "      <th>12</th>\n",
       "      <td>Galicia</td>\n",
       "      <td>0.257</td>\n",
       "    </tr>\n",
       "    <tr>\n",
       "      <th>4</th>\n",
       "      <td>Castilla - La Mancha</td>\n",
       "      <td>0.283</td>\n",
       "    </tr>\n",
       "    <tr>\n",
       "      <th>0</th>\n",
       "      <td>Andalucía</td>\n",
       "      <td>0.287</td>\n",
       "    </tr>\n",
       "    <tr>\n",
       "      <th>10</th>\n",
       "      <td>Comunitat Valenciana</td>\n",
       "      <td>0.304</td>\n",
       "    </tr>\n",
       "    <tr>\n",
       "      <th>1</th>\n",
       "      <td>Aragón</td>\n",
       "      <td>0.305</td>\n",
       "    </tr>\n",
       "    <tr>\n",
       "      <th>18</th>\n",
       "      <td>Región de Murcia</td>\n",
       "      <td>0.330</td>\n",
       "    </tr>\n",
       "    <tr>\n",
       "      <th>17</th>\n",
       "      <td>Principado de Asturias</td>\n",
       "      <td>0.361</td>\n",
       "    </tr>\n",
       "    <tr>\n",
       "      <th>2</th>\n",
       "      <td>Canarias</td>\n",
       "      <td>0.408</td>\n",
       "    </tr>\n",
       "    <tr>\n",
       "      <th>13</th>\n",
       "      <td>Illes Balears</td>\n",
       "      <td>0.418</td>\n",
       "    </tr>\n",
       "    <tr>\n",
       "      <th>8</th>\n",
       "      <td>Comunidad Foral de Navarra</td>\n",
       "      <td>0.465</td>\n",
       "    </tr>\n",
       "    <tr>\n",
       "      <th>3</th>\n",
       "      <td>Cantabria</td>\n",
       "      <td>0.468</td>\n",
       "    </tr>\n",
       "    <tr>\n",
       "      <th>14</th>\n",
       "      <td>La Rioja</td>\n",
       "      <td>0.994</td>\n",
       "    </tr>\n",
       "    <tr>\n",
       "      <th>7</th>\n",
       "      <td>Ceuta</td>\n",
       "      <td>2.665</td>\n",
       "    </tr>\n",
       "    <tr>\n",
       "      <th>15</th>\n",
       "      <td>Melilla</td>\n",
       "      <td>3.306</td>\n",
       "    </tr>\n",
       "  </tbody>\n",
       "</table>\n",
       "</div>"
      ],
      "text/plain": [
       "          autonomous_community  homicide_rate_100k\n",
       "9          Comunidad de Madrid               0.187\n",
       "11                 Extremadura               0.200\n",
       "16                  País Vasco               0.201\n",
       "5              Castilla y León               0.242\n",
       "6                     Cataluña               0.251\n",
       "12                     Galicia               0.257\n",
       "4         Castilla - La Mancha               0.283\n",
       "0                    Andalucía               0.287\n",
       "10        Comunitat Valenciana               0.304\n",
       "1                       Aragón               0.305\n",
       "18            Región de Murcia               0.330\n",
       "17      Principado de Asturias               0.361\n",
       "2                     Canarias               0.408\n",
       "13               Illes Balears               0.418\n",
       "8   Comunidad Foral de Navarra               0.465\n",
       "3                    Cantabria               0.468\n",
       "14                    La Rioja               0.994\n",
       "7                        Ceuta               2.665\n",
       "15                     Melilla               3.306"
      ]
     },
     "execution_count": 19,
     "metadata": {},
     "output_type": "execute_result"
    }
   ],
   "source": [
    "df_mean_rate =df_merged.groupby(['autonomous_community']).homicide_rate_100k.mean().round(3).to_frame().reset_index()\n",
    "df_mean_rate.head(20).sort_values(by='homicide_rate_100k')"
   ]
  },
  {
   "cell_type": "code",
   "execution_count": 20,
   "id": "a30b7b8b",
   "metadata": {},
   "outputs": [],
   "source": [
    "df_mean_rate.to_csv(\"rate_homicide_territories.csv\", index=False)"
   ]
  },
  {
   "cell_type": "code",
   "execution_count": 21,
   "id": "75107d44",
   "metadata": {},
   "outputs": [],
   "source": [
    "df_merged.to_csv(\"final_output.csv\", index=False)"
   ]
  },
  {
   "cell_type": "code",
   "execution_count": 22,
   "id": "903fe95c",
   "metadata": {
    "scrolled": true
   },
   "outputs": [
    {
     "data": {
      "image/png": "[encoded data removed]",
      "text/plain": [
       "<Figure size 1000x800 with 19 Axes>"
      ]
     },
     "metadata": {
      "needs_background": "light"
     },
     "output_type": "display_data"
    },
    {
     "data": {
      "text/plain": [
       "<ggplot: (295708357)>"
      ]
     },
     "metadata": {},
     "output_type": "display_data"
    }
   ],
   "source": [
    "# some initial analysis\n",
    "from plotnine import *\n",
    "display(\n",
    "    ggplot(df_merged,             \n",
    "        aes('year', 'homicide_rate_100k'))\n",
    "        + geom_line() \n",
    "        + theme_minimal()\n",
    "        + theme(figure_size=(10, 8))\n",
    "        + facet_wrap('autonomous_community')\n",
    "        + labs(\n",
    "            title = \"Melilla and Ceuta, the Spanish regions with the highest conjugal homicide rate\\n Percentage of women killed by 100,000 female inhabitants\",\n",
    "            y = \"Percentage of women killed\",\n",
    "            x = \"years\"\n",
    "        )\n",
    ") "
   ]
  },
  {
   "cell_type": "code",
   "execution_count": 23,
   "id": "81aef4cc",
   "metadata": {
    "scrolled": true
   },
   "outputs": [
    {
     "data": {
      "text/html": [
       "<div>\n",
       "<style scoped>\n",
       "    .dataframe tbody tr th:only-of-type {\n",
       "        vertical-align: middle;\n",
       "    }\n",
       "\n",
       "    .dataframe tbody tr th {\n",
       "        vertical-align: top;\n",
       "    }\n",
       "\n",
       "    .dataframe thead th {\n",
       "        text-align: right;\n",
       "    }\n",
       "</style>\n",
       "<table border=\"1\" class=\"dataframe\">\n",
       "  <thead>\n",
       "    <tr style=\"text-align: right;\">\n",
       "      <th></th>\n",
       "      <th>year</th>\n",
       "      <th>autonomous_community</th>\n",
       "      <th>women_killed</th>\n",
       "      <th>female_population</th>\n",
       "      <th>homicide_rate_100k</th>\n",
       "    </tr>\n",
       "  </thead>\n",
       "  <tbody>\n",
       "    <tr>\n",
       "      <th>7</th>\n",
       "      <td>2003</td>\n",
       "      <td>Ceuta</td>\n",
       "      <td>1</td>\n",
       "      <td>36536</td>\n",
       "      <td>2.737</td>\n",
       "    </tr>\n",
       "    <tr>\n",
       "      <th>44</th>\n",
       "      <td>2005</td>\n",
       "      <td>Melilla</td>\n",
       "      <td>1</td>\n",
       "      <td>32166</td>\n",
       "      <td>3.109</td>\n",
       "    </tr>\n",
       "    <tr>\n",
       "      <th>73</th>\n",
       "      <td>2007</td>\n",
       "      <td>Melilla</td>\n",
       "      <td>1</td>\n",
       "      <td>34232</td>\n",
       "      <td>2.921</td>\n",
       "    </tr>\n",
       "    <tr>\n",
       "      <th>97</th>\n",
       "      <td>2009</td>\n",
       "      <td>Ceuta</td>\n",
       "      <td>1</td>\n",
       "      <td>38556</td>\n",
       "      <td>2.594</td>\n",
       "    </tr>\n",
       "    <tr>\n",
       "      <th>169</th>\n",
       "      <td>2014</td>\n",
       "      <td>Melilla</td>\n",
       "      <td>2</td>\n",
       "      <td>41434</td>\n",
       "      <td>4.827</td>\n",
       "    </tr>\n",
       "    <tr>\n",
       "      <th>197</th>\n",
       "      <td>2016</td>\n",
       "      <td>Melilla</td>\n",
       "      <td>1</td>\n",
       "      <td>42258</td>\n",
       "      <td>2.366</td>\n",
       "    </tr>\n",
       "  </tbody>\n",
       "</table>\n",
       "</div>"
      ],
      "text/plain": [
       "     year autonomous_community  women_killed  female_population  \\\n",
       "7    2003                Ceuta             1              36536   \n",
       "44   2005              Melilla             1              32166   \n",
       "73   2007              Melilla             1              34232   \n",
       "97   2009                Ceuta             1              38556   \n",
       "169  2014              Melilla             2              41434   \n",
       "197  2016              Melilla             1              42258   \n",
       "\n",
       "     homicide_rate_100k  \n",
       "7                 2.737  \n",
       "44                3.109  \n",
       "73                2.921  \n",
       "97                2.594  \n",
       "169               4.827  \n",
       "197               2.366  "
      ]
     },
     "execution_count": 23,
     "metadata": {},
     "output_type": "execute_result"
    }
   ],
   "source": [
    "# we create a subset with only Ceuta a Melilla to plot these territories separately\n",
    "worse_regions =df_merged[df_merged.autonomous_community.isin(['Ceuta', 'Melilla'])]\n",
    "worse_regions"
   ]
  },
  {
   "cell_type": "code",
   "execution_count": 24,
   "id": "83ad3447",
   "metadata": {
    "scrolled": true
   },
   "outputs": [
    {
     "data": {
      "text/html": [
       "<div>\n",
       "<style scoped>\n",
       "    .dataframe tbody tr th:only-of-type {\n",
       "        vertical-align: middle;\n",
       "    }\n",
       "\n",
       "    .dataframe tbody tr th {\n",
       "        vertical-align: top;\n",
       "    }\n",
       "\n",
       "    .dataframe thead th {\n",
       "        text-align: right;\n",
       "    }\n",
       "</style>\n",
       "<table border=\"1\" class=\"dataframe\">\n",
       "  <thead>\n",
       "    <tr style=\"text-align: right;\">\n",
       "      <th></th>\n",
       "      <th>year</th>\n",
       "      <th>autonomous_community</th>\n",
       "      <th>women_killed</th>\n",
       "      <th>female_population</th>\n",
       "      <th>homicide_rate_100k</th>\n",
       "    </tr>\n",
       "  </thead>\n",
       "  <tbody>\n",
       "    <tr>\n",
       "      <th>7</th>\n",
       "      <td>2003</td>\n",
       "      <td>Ceuta</td>\n",
       "      <td>1</td>\n",
       "      <td>36536</td>\n",
       "      <td>2.737</td>\n",
       "    </tr>\n",
       "    <tr>\n",
       "      <th>44</th>\n",
       "      <td>2005</td>\n",
       "      <td>Melilla</td>\n",
       "      <td>1</td>\n",
       "      <td>32166</td>\n",
       "      <td>3.109</td>\n",
       "    </tr>\n",
       "  </tbody>\n",
       "</table>\n",
       "</div>"
      ],
      "text/plain": [
       "    year autonomous_community  women_killed  female_population  \\\n",
       "7   2003                Ceuta             1              36536   \n",
       "44  2005              Melilla             1              32166   \n",
       "\n",
       "    homicide_rate_100k  \n",
       "7                2.737  \n",
       "44               3.109  "
      ]
     },
     "execution_count": 24,
     "metadata": {},
     "output_type": "execute_result"
    }
   ],
   "source": [
    "annotations =df_merged[df_merged.autonomous_community.isin(['Ceuta', 'Melilla'])]\n",
    "annotations=annotations[annotations.year.isin([2003, 2005])]\n",
    "annotations"
   ]
  },
  {
   "cell_type": "code",
   "execution_count": 25,
   "id": "7b85cc41",
   "metadata": {},
   "outputs": [
    {
     "data": {
      "image/png": "[encoded data removed]",
      "text/plain": [
       "<Figure size 1000x800 with 1 Axes>"
      ]
     },
     "metadata": {},
     "output_type": "display_data"
    },
    {
     "data": {
      "text/plain": [
       "<ggplot: (309409549)>"
      ]
     },
     "execution_count": 25,
     "metadata": {},
     "output_type": "execute_result"
    }
   ],
   "source": [
    "(\n",
    "    ggplot() + \n",
    "        geom_line(df_merged, aes(x='year', y='homicide_rate_100k'),color='pink', size=1) + \n",
    "        geom_line(worse_regions, aes(x='year', y='homicide_rate_100k', label='autonomous_community'), size=1.3, color='red') +\n",
    "        geom_text(annotations, aes(x='year', y='homicide_rate_100k'), ha='center', nudge_x=1.4, va='baseline') +\n",
    "        aes(group='autonomous_community', label='autonomous_community') +\n",
    "        theme_seaborn(style='ticks', context='paper', font_scale=1.8) +\n",
    "        theme(figure_size=(10, 8)) +\n",
    "        labs(\n",
    "            title = \"Melilla and Ceuta, the Spanish regions with the highest conjugal homicide rate\",\n",
    "            y = \"homicide rate\\n per 100,000 female residents (%)\",\n",
    "            x = \"years\"\n",
    "        )\n",
    ")"
   ]
  },
  {
   "cell_type": "markdown",
   "id": "d4423d7e",
   "metadata": {},
   "source": [
    "### Even although I liked the graph above, I feel it can somehow be misleading. Because even when it's true than more women are killed in Ceuta and Melilla per 100,000 women, those territories are so small than in reality we are talking about 2 and 5 murders respectively in 18 years. \n",
    "### That's way, in my final story, I ended up plotting absolute numbers instead of the homicide rate (!!)"
   ]
  },
  {
   "cell_type": "markdown",
   "id": "e5833749",
   "metadata": {},
   "source": [
    "### Now I'll calculate the number of calls over time to 016, a free of cost domestic violence hotline service"
   ]
  },
  {
   "cell_type": "code",
   "execution_count": 26,
   "id": "f15c9c34",
   "metadata": {
    "scrolled": true
   },
   "outputs": [
    {
     "data": {
      "text/html": [
       "<div>\n",
       "<style scoped>\n",
       "    .dataframe tbody tr th:only-of-type {\n",
       "        vertical-align: middle;\n",
       "    }\n",
       "\n",
       "    .dataframe tbody tr th {\n",
       "        vertical-align: top;\n",
       "    }\n",
       "\n",
       "    .dataframe thead th {\n",
       "        text-align: right;\n",
       "    }\n",
       "</style>\n",
       "<table border=\"1\" class=\"dataframe\">\n",
       "  <thead>\n",
       "    <tr style=\"text-align: right;\">\n",
       "      <th></th>\n",
       "      <th>Comunidad autónoma</th>\n",
       "      <th>Provincia</th>\n",
       "      <th>Año</th>\n",
       "      <th>Número de llamadas pertinentes</th>\n",
       "    </tr>\n",
       "  </thead>\n",
       "  <tbody>\n",
       "    <tr>\n",
       "      <th>0</th>\n",
       "      <td>Andalucía</td>\n",
       "      <td>Almería</td>\n",
       "      <td>Año 2007</td>\n",
       "      <td>181.0</td>\n",
       "    </tr>\n",
       "    <tr>\n",
       "      <th>1</th>\n",
       "      <td>Andalucía</td>\n",
       "      <td>Almería</td>\n",
       "      <td>Año 2008</td>\n",
       "      <td>936.0</td>\n",
       "    </tr>\n",
       "    <tr>\n",
       "      <th>2</th>\n",
       "      <td>Andalucía</td>\n",
       "      <td>Almería</td>\n",
       "      <td>Año 2009</td>\n",
       "      <td>834.0</td>\n",
       "    </tr>\n",
       "    <tr>\n",
       "      <th>3</th>\n",
       "      <td>Andalucía</td>\n",
       "      <td>Almería</td>\n",
       "      <td>Año 2010</td>\n",
       "      <td>821.0</td>\n",
       "    </tr>\n",
       "    <tr>\n",
       "      <th>4</th>\n",
       "      <td>Andalucía</td>\n",
       "      <td>Almería</td>\n",
       "      <td>Año 2011</td>\n",
       "      <td>912.0</td>\n",
       "    </tr>\n",
       "  </tbody>\n",
       "</table>\n",
       "</div>"
      ],
      "text/plain": [
       "  Comunidad autónoma Provincia       Año  Número de llamadas pertinentes\n",
       "0          Andalucía   Almería  Año 2007                           181.0\n",
       "1          Andalucía   Almería  Año 2008                           936.0\n",
       "2          Andalucía   Almería  Año 2009                           834.0\n",
       "3          Andalucía   Almería  Año 2010                           821.0\n",
       "4          Andalucía   Almería  Año 2011                           912.0"
      ]
     },
     "execution_count": 26,
     "metadata": {},
     "output_type": "execute_result"
    }
   ],
   "source": [
    "import pandas as pd\n",
    "df_hotline = pd.read_csv('hotline_calls.csv')\n",
    "df_hotline.head()"
   ]
  },
  {
   "cell_type": "code",
   "execution_count": 27,
   "id": "ecfc04f4",
   "metadata": {},
   "outputs": [],
   "source": [
    "# traslate headlines\n",
    "df_hotline = df_hotline.rename(columns={'Año': 'year', 'Número de llamadas pertinentes': 'calls_016', 'Comunidad autónoma': 'autonomous_community', 'Provincia': 'province'})"
   ]
  },
  {
   "cell_type": "code",
   "execution_count": 28,
   "id": "6ae7f0a4",
   "metadata": {},
   "outputs": [],
   "source": [
    "# clean our data\n",
    "df_hotline['year'] = df_hotline['year'].str.replace('Año', '').astype(int)\n",
    "df_hotline['calls_016'] = df_hotline['calls_016'].astype(int)"
   ]
  },
  {
   "cell_type": "code",
   "execution_count": 29,
   "id": "adc731e5",
   "metadata": {
    "scrolled": true
   },
   "outputs": [
    {
     "data": {
      "text/html": [
       "<div>\n",
       "<style scoped>\n",
       "    .dataframe tbody tr th:only-of-type {\n",
       "        vertical-align: middle;\n",
       "    }\n",
       "\n",
       "    .dataframe tbody tr th {\n",
       "        vertical-align: top;\n",
       "    }\n",
       "\n",
       "    .dataframe thead th {\n",
       "        text-align: right;\n",
       "    }\n",
       "</style>\n",
       "<table border=\"1\" class=\"dataframe\">\n",
       "  <thead>\n",
       "    <tr style=\"text-align: right;\">\n",
       "      <th></th>\n",
       "      <th>autonomous_community</th>\n",
       "      <th>province</th>\n",
       "      <th>year</th>\n",
       "      <th>calls_016</th>\n",
       "    </tr>\n",
       "  </thead>\n",
       "  <tbody>\n",
       "    <tr>\n",
       "      <th>0</th>\n",
       "      <td>Andalucía</td>\n",
       "      <td>Almería</td>\n",
       "      <td>2007</td>\n",
       "      <td>181</td>\n",
       "    </tr>\n",
       "    <tr>\n",
       "      <th>1</th>\n",
       "      <td>Andalucía</td>\n",
       "      <td>Almería</td>\n",
       "      <td>2008</td>\n",
       "      <td>936</td>\n",
       "    </tr>\n",
       "    <tr>\n",
       "      <th>2</th>\n",
       "      <td>Andalucía</td>\n",
       "      <td>Almería</td>\n",
       "      <td>2009</td>\n",
       "      <td>834</td>\n",
       "    </tr>\n",
       "    <tr>\n",
       "      <th>3</th>\n",
       "      <td>Andalucía</td>\n",
       "      <td>Almería</td>\n",
       "      <td>2010</td>\n",
       "      <td>821</td>\n",
       "    </tr>\n",
       "    <tr>\n",
       "      <th>4</th>\n",
       "      <td>Andalucía</td>\n",
       "      <td>Almería</td>\n",
       "      <td>2011</td>\n",
       "      <td>912</td>\n",
       "    </tr>\n",
       "  </tbody>\n",
       "</table>\n",
       "</div>"
      ],
      "text/plain": [
       "  autonomous_community province  year  calls_016\n",
       "0            Andalucía  Almería  2007        181\n",
       "1            Andalucía  Almería  2008        936\n",
       "2            Andalucía  Almería  2009        834\n",
       "3            Andalucía  Almería  2010        821\n",
       "4            Andalucía  Almería  2011        912"
      ]
     },
     "execution_count": 29,
     "metadata": {},
     "output_type": "execute_result"
    }
   ],
   "source": [
    "df_hotline.head()"
   ]
  },
  {
   "cell_type": "markdown",
   "id": "9c0331bf",
   "metadata": {},
   "source": [
    "## Now we do the same thing for police complaints"
   ]
  },
  {
   "cell_type": "code",
   "execution_count": 30,
   "id": "20b73bff",
   "metadata": {},
   "outputs": [
    {
     "data": {
      "text/html": [
       "<div>\n",
       "<style scoped>\n",
       "    .dataframe tbody tr th:only-of-type {\n",
       "        vertical-align: middle;\n",
       "    }\n",
       "\n",
       "    .dataframe tbody tr th {\n",
       "        vertical-align: top;\n",
       "    }\n",
       "\n",
       "    .dataframe thead th {\n",
       "        text-align: right;\n",
       "    }\n",
       "</style>\n",
       "<table border=\"1\" class=\"dataframe\">\n",
       "  <thead>\n",
       "    <tr style=\"text-align: right;\">\n",
       "      <th></th>\n",
       "      <th>Comunidad autónoma</th>\n",
       "      <th>Provincia</th>\n",
       "      <th>Año</th>\n",
       "      <th>Número de denuncias por violencia de género</th>\n",
       "    </tr>\n",
       "  </thead>\n",
       "  <tbody>\n",
       "    <tr>\n",
       "      <th>0</th>\n",
       "      <td>Andalucía</td>\n",
       "      <td>Almería</td>\n",
       "      <td>Año 2009</td>\n",
       "      <td>2604.0</td>\n",
       "    </tr>\n",
       "    <tr>\n",
       "      <th>1</th>\n",
       "      <td>Andalucía</td>\n",
       "      <td>Almería</td>\n",
       "      <td>Año 2010</td>\n",
       "      <td>2752.0</td>\n",
       "    </tr>\n",
       "    <tr>\n",
       "      <th>2</th>\n",
       "      <td>Andalucía</td>\n",
       "      <td>Almería</td>\n",
       "      <td>Año 2011</td>\n",
       "      <td>2357.0</td>\n",
       "    </tr>\n",
       "    <tr>\n",
       "      <th>3</th>\n",
       "      <td>Andalucía</td>\n",
       "      <td>Almería</td>\n",
       "      <td>Año 2012</td>\n",
       "      <td>2123.0</td>\n",
       "    </tr>\n",
       "    <tr>\n",
       "      <th>4</th>\n",
       "      <td>Andalucía</td>\n",
       "      <td>Almería</td>\n",
       "      <td>Año 2013</td>\n",
       "      <td>2079.0</td>\n",
       "    </tr>\n",
       "  </tbody>\n",
       "</table>\n",
       "</div>"
      ],
      "text/plain": [
       "  Comunidad autónoma Provincia       Año  \\\n",
       "0          Andalucía   Almería  Año 2009   \n",
       "1          Andalucía   Almería  Año 2010   \n",
       "2          Andalucía   Almería  Año 2011   \n",
       "3          Andalucía   Almería  Año 2012   \n",
       "4          Andalucía   Almería  Año 2013   \n",
       "\n",
       "   Número de denuncias por violencia de género  \n",
       "0                                       2604.0  \n",
       "1                                       2752.0  \n",
       "2                                       2357.0  \n",
       "3                                       2123.0  \n",
       "4                                       2079.0  "
      ]
     },
     "execution_count": 30,
     "metadata": {},
     "output_type": "execute_result"
    }
   ],
   "source": [
    "# import number of police complaints\n",
    "df_reports = pd.read_csv('police_reports.csv')\n",
    "df_reports.head()"
   ]
  },
  {
   "cell_type": "code",
   "execution_count": 31,
   "id": "361d5e29",
   "metadata": {
    "scrolled": true
   },
   "outputs": [
    {
     "data": {
      "text/html": [
       "<div>\n",
       "<style scoped>\n",
       "    .dataframe tbody tr th:only-of-type {\n",
       "        vertical-align: middle;\n",
       "    }\n",
       "\n",
       "    .dataframe tbody tr th {\n",
       "        vertical-align: top;\n",
       "    }\n",
       "\n",
       "    .dataframe thead th {\n",
       "        text-align: right;\n",
       "    }\n",
       "</style>\n",
       "<table border=\"1\" class=\"dataframe\">\n",
       "  <thead>\n",
       "    <tr style=\"text-align: right;\">\n",
       "      <th></th>\n",
       "      <th>autonomous_community</th>\n",
       "      <th>province</th>\n",
       "      <th>year</th>\n",
       "      <th>police_complaints</th>\n",
       "    </tr>\n",
       "  </thead>\n",
       "  <tbody>\n",
       "    <tr>\n",
       "      <th>0</th>\n",
       "      <td>Andalucía</td>\n",
       "      <td>Almería</td>\n",
       "      <td>Año 2009</td>\n",
       "      <td>2604.0</td>\n",
       "    </tr>\n",
       "    <tr>\n",
       "      <th>1</th>\n",
       "      <td>Andalucía</td>\n",
       "      <td>Almería</td>\n",
       "      <td>Año 2010</td>\n",
       "      <td>2752.0</td>\n",
       "    </tr>\n",
       "    <tr>\n",
       "      <th>2</th>\n",
       "      <td>Andalucía</td>\n",
       "      <td>Almería</td>\n",
       "      <td>Año 2011</td>\n",
       "      <td>2357.0</td>\n",
       "    </tr>\n",
       "    <tr>\n",
       "      <th>3</th>\n",
       "      <td>Andalucía</td>\n",
       "      <td>Almería</td>\n",
       "      <td>Año 2012</td>\n",
       "      <td>2123.0</td>\n",
       "    </tr>\n",
       "    <tr>\n",
       "      <th>4</th>\n",
       "      <td>Andalucía</td>\n",
       "      <td>Almería</td>\n",
       "      <td>Año 2013</td>\n",
       "      <td>2079.0</td>\n",
       "    </tr>\n",
       "  </tbody>\n",
       "</table>\n",
       "</div>"
      ],
      "text/plain": [
       "  autonomous_community province      year  police_complaints\n",
       "0            Andalucía  Almería  Año 2009             2604.0\n",
       "1            Andalucía  Almería  Año 2010             2752.0\n",
       "2            Andalucía  Almería  Año 2011             2357.0\n",
       "3            Andalucía  Almería  Año 2012             2123.0\n",
       "4            Andalucía  Almería  Año 2013             2079.0"
      ]
     },
     "execution_count": 31,
     "metadata": {},
     "output_type": "execute_result"
    }
   ],
   "source": [
    "# traslate into English\n",
    "df_reports = df_reports.rename(columns={'Año': 'year', 'Número de denuncias por violencia de género': 'police_complaints', 'Comunidad autónoma': 'autonomous_community', 'Provincia': 'province'})\n",
    "df_reports.head()"
   ]
  },
  {
   "cell_type": "code",
   "execution_count": 32,
   "id": "96e0c1ed",
   "metadata": {},
   "outputs": [],
   "source": [
    "df_reports['year'] = df_reports['year'].str.replace('Año', '').astype(int)\n",
    "df_reports['police_complaints'] = df_reports['police_complaints'].astype(int)"
   ]
  },
  {
   "cell_type": "code",
   "execution_count": 33,
   "id": "06fd76db",
   "metadata": {
    "scrolled": false
   },
   "outputs": [
    {
     "data": {
      "text/html": [
       "<div>\n",
       "<style scoped>\n",
       "    .dataframe tbody tr th:only-of-type {\n",
       "        vertical-align: middle;\n",
       "    }\n",
       "\n",
       "    .dataframe tbody tr th {\n",
       "        vertical-align: top;\n",
       "    }\n",
       "\n",
       "    .dataframe thead th {\n",
       "        text-align: right;\n",
       "    }\n",
       "</style>\n",
       "<table border=\"1\" class=\"dataframe\">\n",
       "  <thead>\n",
       "    <tr style=\"text-align: right;\">\n",
       "      <th></th>\n",
       "      <th>autonomous_community</th>\n",
       "      <th>province</th>\n",
       "      <th>year</th>\n",
       "      <th>police_complaints</th>\n",
       "    </tr>\n",
       "  </thead>\n",
       "  <tbody>\n",
       "    <tr>\n",
       "      <th>0</th>\n",
       "      <td>Andalucía</td>\n",
       "      <td>Almería</td>\n",
       "      <td>2009</td>\n",
       "      <td>2604</td>\n",
       "    </tr>\n",
       "    <tr>\n",
       "      <th>1</th>\n",
       "      <td>Andalucía</td>\n",
       "      <td>Almería</td>\n",
       "      <td>2010</td>\n",
       "      <td>2752</td>\n",
       "    </tr>\n",
       "    <tr>\n",
       "      <th>2</th>\n",
       "      <td>Andalucía</td>\n",
       "      <td>Almería</td>\n",
       "      <td>2011</td>\n",
       "      <td>2357</td>\n",
       "    </tr>\n",
       "    <tr>\n",
       "      <th>3</th>\n",
       "      <td>Andalucía</td>\n",
       "      <td>Almería</td>\n",
       "      <td>2012</td>\n",
       "      <td>2123</td>\n",
       "    </tr>\n",
       "    <tr>\n",
       "      <th>4</th>\n",
       "      <td>Andalucía</td>\n",
       "      <td>Almería</td>\n",
       "      <td>2013</td>\n",
       "      <td>2079</td>\n",
       "    </tr>\n",
       "  </tbody>\n",
       "</table>\n",
       "</div>"
      ],
      "text/plain": [
       "  autonomous_community province  year  police_complaints\n",
       "0            Andalucía  Almería  2009               2604\n",
       "1            Andalucía  Almería  2010               2752\n",
       "2            Andalucía  Almería  2011               2357\n",
       "3            Andalucía  Almería  2012               2123\n",
       "4            Andalucía  Almería  2013               2079"
      ]
     },
     "execution_count": 33,
     "metadata": {},
     "output_type": "execute_result"
    }
   ],
   "source": [
    "df_reports.head()"
   ]
  },
  {
   "cell_type": "code",
   "execution_count": 34,
   "id": "17d79658",
   "metadata": {},
   "outputs": [],
   "source": [
    "# filter police complaints per autonomous community\n",
    "df_reports =df_reports.groupby(['year', 'autonomous_community']).police_complaints.sum().to_frame().reset_index()"
   ]
  },
  {
   "cell_type": "code",
   "execution_count": 35,
   "id": "677702a9",
   "metadata": {
    "scrolled": true
   },
   "outputs": [
    {
     "data": {
      "text/html": [
       "<div>\n",
       "<style scoped>\n",
       "    .dataframe tbody tr th:only-of-type {\n",
       "        vertical-align: middle;\n",
       "    }\n",
       "\n",
       "    .dataframe tbody tr th {\n",
       "        vertical-align: top;\n",
       "    }\n",
       "\n",
       "    .dataframe thead th {\n",
       "        text-align: right;\n",
       "    }\n",
       "</style>\n",
       "<table border=\"1\" class=\"dataframe\">\n",
       "  <thead>\n",
       "    <tr style=\"text-align: right;\">\n",
       "      <th></th>\n",
       "      <th>year</th>\n",
       "      <th>autonomous_community</th>\n",
       "      <th>police_complaints</th>\n",
       "    </tr>\n",
       "  </thead>\n",
       "  <tbody>\n",
       "    <tr>\n",
       "      <th>0</th>\n",
       "      <td>2009</td>\n",
       "      <td>Andalucía</td>\n",
       "      <td>26143</td>\n",
       "    </tr>\n",
       "    <tr>\n",
       "      <th>1</th>\n",
       "      <td>2009</td>\n",
       "      <td>Aragón</td>\n",
       "      <td>2848</td>\n",
       "    </tr>\n",
       "    <tr>\n",
       "      <th>2</th>\n",
       "      <td>2009</td>\n",
       "      <td>Canarias</td>\n",
       "      <td>8982</td>\n",
       "    </tr>\n",
       "    <tr>\n",
       "      <th>3</th>\n",
       "      <td>2009</td>\n",
       "      <td>Cantabria</td>\n",
       "      <td>1172</td>\n",
       "    </tr>\n",
       "    <tr>\n",
       "      <th>4</th>\n",
       "      <td>2009</td>\n",
       "      <td>Castilla - La Mancha</td>\n",
       "      <td>5370</td>\n",
       "    </tr>\n",
       "  </tbody>\n",
       "</table>\n",
       "</div>"
      ],
      "text/plain": [
       "   year  autonomous_community  police_complaints\n",
       "0  2009             Andalucía              26143\n",
       "1  2009                Aragón               2848\n",
       "2  2009              Canarias               8982\n",
       "3  2009             Cantabria               1172\n",
       "4  2009  Castilla - La Mancha               5370"
      ]
     },
     "execution_count": 35,
     "metadata": {},
     "output_type": "execute_result"
    }
   ],
   "source": [
    "df_reports.head()"
   ]
  },
  {
   "cell_type": "markdown",
   "id": "42b98c2f",
   "metadata": {},
   "source": [
    "## Merge both dataframes: women killed + police complaints"
   ]
  },
  {
   "cell_type": "code",
   "execution_count": 36,
   "id": "2a8c1b09",
   "metadata": {},
   "outputs": [],
   "source": [
    "df_complaints = df_merged.merge(df_reports, how='inner',on=(['year', 'autonomous_community']))"
   ]
  },
  {
   "cell_type": "code",
   "execution_count": 37,
   "id": "5d390cab",
   "metadata": {
    "scrolled": false
   },
   "outputs": [
    {
     "data": {
      "text/html": [
       "<div>\n",
       "<style scoped>\n",
       "    .dataframe tbody tr th:only-of-type {\n",
       "        vertical-align: middle;\n",
       "    }\n",
       "\n",
       "    .dataframe tbody tr th {\n",
       "        vertical-align: top;\n",
       "    }\n",
       "\n",
       "    .dataframe thead th {\n",
       "        text-align: right;\n",
       "    }\n",
       "</style>\n",
       "<table border=\"1\" class=\"dataframe\">\n",
       "  <thead>\n",
       "    <tr style=\"text-align: right;\">\n",
       "      <th></th>\n",
       "      <th>year</th>\n",
       "      <th>autonomous_community</th>\n",
       "      <th>women_killed</th>\n",
       "      <th>female_population</th>\n",
       "      <th>homicide_rate_100k</th>\n",
       "      <th>police_complaints</th>\n",
       "    </tr>\n",
       "  </thead>\n",
       "  <tbody>\n",
       "    <tr>\n",
       "      <th>0</th>\n",
       "      <td>2009</td>\n",
       "      <td>Andalucía</td>\n",
       "      <td>15</td>\n",
       "      <td>4189540</td>\n",
       "      <td>0.358</td>\n",
       "      <td>26143</td>\n",
       "    </tr>\n",
       "    <tr>\n",
       "      <th>1</th>\n",
       "      <td>2009</td>\n",
       "      <td>Canarias</td>\n",
       "      <td>5</td>\n",
       "      <td>1051356</td>\n",
       "      <td>0.476</td>\n",
       "      <td>8982</td>\n",
       "    </tr>\n",
       "    <tr>\n",
       "      <th>2</th>\n",
       "      <td>2009</td>\n",
       "      <td>Castilla - La Mancha</td>\n",
       "      <td>1</td>\n",
       "      <td>1029645</td>\n",
       "      <td>0.097</td>\n",
       "      <td>5370</td>\n",
       "    </tr>\n",
       "    <tr>\n",
       "      <th>3</th>\n",
       "      <td>2009</td>\n",
       "      <td>Castilla y León</td>\n",
       "      <td>1</td>\n",
       "      <td>1291501</td>\n",
       "      <td>0.077</td>\n",
       "      <td>5090</td>\n",
       "    </tr>\n",
       "    <tr>\n",
       "      <th>4</th>\n",
       "      <td>2009</td>\n",
       "      <td>Cataluña</td>\n",
       "      <td>10</td>\n",
       "      <td>3761655</td>\n",
       "      <td>0.266</td>\n",
       "      <td>18218</td>\n",
       "    </tr>\n",
       "  </tbody>\n",
       "</table>\n",
       "</div>"
      ],
      "text/plain": [
       "   year  autonomous_community  women_killed  female_population  \\\n",
       "0  2009             Andalucía            15            4189540   \n",
       "1  2009              Canarias             5            1051356   \n",
       "2  2009  Castilla - La Mancha             1            1029645   \n",
       "3  2009       Castilla y León             1            1291501   \n",
       "4  2009              Cataluña            10            3761655   \n",
       "\n",
       "   homicide_rate_100k  police_complaints  \n",
       "0               0.358              26143  \n",
       "1               0.476               8982  \n",
       "2               0.097               5370  \n",
       "3               0.077               5090  \n",
       "4               0.266              18218  "
      ]
     },
     "execution_count": 37,
     "metadata": {},
     "output_type": "execute_result"
    }
   ],
   "source": [
    "df_complaints.head()"
   ]
  },
  {
   "cell_type": "code",
   "execution_count": 38,
   "id": "127980dc",
   "metadata": {},
   "outputs": [],
   "source": [
    "# calculate the percentage of police complaints in comparison to the number of women murdered per autonomous community\n",
    "df_complaints['complaints_per_murder'] = round((df_complaints.police_complaints / df_complaints.women_killed), 3)\n"
   ]
  },
  {
   "cell_type": "code",
   "execution_count": 39,
   "id": "471a48b2",
   "metadata": {
    "scrolled": true
   },
   "outputs": [
    {
     "data": {
      "text/plain": [
       "284140"
      ]
     },
     "execution_count": 39,
     "metadata": {},
     "output_type": "execute_result"
    }
   ],
   "source": [
    "df_complaints[df_complaints.autonomous_community=='Comunidad de Madrid'].police_complaints.sum()"
   ]
  },
  {
   "cell_type": "code",
   "execution_count": 40,
   "id": "9b81e15a",
   "metadata": {},
   "outputs": [],
   "source": [
    "# we'll calculate the median over time per territory\n",
    "df_median =df_complaints.groupby(['autonomous_community']).complaints_per_murder.median().to_frame().reset_index()"
   ]
  },
  {
   "cell_type": "code",
   "execution_count": 41,
   "id": "594c60e0",
   "metadata": {},
   "outputs": [
    {
     "data": {
      "text/html": [
       "<div>\n",
       "<style scoped>\n",
       "    .dataframe tbody tr th:only-of-type {\n",
       "        vertical-align: middle;\n",
       "    }\n",
       "\n",
       "    .dataframe tbody tr th {\n",
       "        vertical-align: top;\n",
       "    }\n",
       "\n",
       "    .dataframe thead th {\n",
       "        text-align: right;\n",
       "    }\n",
       "</style>\n",
       "<table border=\"1\" class=\"dataframe\">\n",
       "  <thead>\n",
       "    <tr style=\"text-align: right;\">\n",
       "      <th></th>\n",
       "      <th>autonomous_community</th>\n",
       "      <th>complaints_per_murder</th>\n",
       "    </tr>\n",
       "  </thead>\n",
       "  <tbody>\n",
       "    <tr>\n",
       "      <th>15</th>\n",
       "      <td>Melilla</td>\n",
       "      <td>281.2500</td>\n",
       "    </tr>\n",
       "    <tr>\n",
       "      <th>7</th>\n",
       "      <td>Ceuta</td>\n",
       "      <td>334.0000</td>\n",
       "    </tr>\n",
       "    <tr>\n",
       "      <th>14</th>\n",
       "      <td>La Rioja</td>\n",
       "      <td>834.0000</td>\n",
       "    </tr>\n",
       "    <tr>\n",
       "      <th>8</th>\n",
       "      <td>Comunidad Foral de Navarra</td>\n",
       "      <td>1321.0000</td>\n",
       "    </tr>\n",
       "    <tr>\n",
       "      <th>3</th>\n",
       "      <td>Cantabria</td>\n",
       "      <td>1327.0000</td>\n",
       "    </tr>\n",
       "    <tr>\n",
       "      <th>17</th>\n",
       "      <td>Principado de Asturias</td>\n",
       "      <td>1373.5000</td>\n",
       "    </tr>\n",
       "    <tr>\n",
       "      <th>1</th>\n",
       "      <td>Aragón</td>\n",
       "      <td>1537.0000</td>\n",
       "    </tr>\n",
       "    <tr>\n",
       "      <th>12</th>\n",
       "      <td>Galicia</td>\n",
       "      <td>1724.6670</td>\n",
       "    </tr>\n",
       "    <tr>\n",
       "      <th>5</th>\n",
       "      <td>Castilla y León</td>\n",
       "      <td>1911.3335</td>\n",
       "    </tr>\n",
       "    <tr>\n",
       "      <th>11</th>\n",
       "      <td>Extremadura</td>\n",
       "      <td>1967.0000</td>\n",
       "    </tr>\n",
       "    <tr>\n",
       "      <th>16</th>\n",
       "      <td>País Vasco</td>\n",
       "      <td>2045.7500</td>\n",
       "    </tr>\n",
       "    <tr>\n",
       "      <th>10</th>\n",
       "      <td>Comunitat Valenciana</td>\n",
       "      <td>2421.1250</td>\n",
       "    </tr>\n",
       "    <tr>\n",
       "      <th>6</th>\n",
       "      <td>Cataluña</td>\n",
       "      <td>2490.7500</td>\n",
       "    </tr>\n",
       "    <tr>\n",
       "      <th>13</th>\n",
       "      <td>Illes Balears</td>\n",
       "      <td>2522.7500</td>\n",
       "    </tr>\n",
       "    <tr>\n",
       "      <th>2</th>\n",
       "      <td>Canarias</td>\n",
       "      <td>2634.5000</td>\n",
       "    </tr>\n",
       "    <tr>\n",
       "      <th>0</th>\n",
       "      <td>Andalucía</td>\n",
       "      <td>2691.0000</td>\n",
       "    </tr>\n",
       "    <tr>\n",
       "      <th>4</th>\n",
       "      <td>Castilla - La Mancha</td>\n",
       "      <td>2836.0000</td>\n",
       "    </tr>\n",
       "    <tr>\n",
       "      <th>18</th>\n",
       "      <td>Región de Murcia</td>\n",
       "      <td>3588.2500</td>\n",
       "    </tr>\n",
       "    <tr>\n",
       "      <th>9</th>\n",
       "      <td>Comunidad de Madrid</td>\n",
       "      <td>3851.2860</td>\n",
       "    </tr>\n",
       "  </tbody>\n",
       "</table>\n",
       "</div>"
      ],
      "text/plain": [
       "          autonomous_community  complaints_per_murder\n",
       "15                     Melilla               281.2500\n",
       "7                        Ceuta               334.0000\n",
       "14                    La Rioja               834.0000\n",
       "8   Comunidad Foral de Navarra              1321.0000\n",
       "3                    Cantabria              1327.0000\n",
       "17      Principado de Asturias              1373.5000\n",
       "1                       Aragón              1537.0000\n",
       "12                     Galicia              1724.6670\n",
       "5              Castilla y León              1911.3335\n",
       "11                 Extremadura              1967.0000\n",
       "16                  País Vasco              2045.7500\n",
       "10        Comunitat Valenciana              2421.1250\n",
       "6                     Cataluña              2490.7500\n",
       "13               Illes Balears              2522.7500\n",
       "2                     Canarias              2634.5000\n",
       "0                    Andalucía              2691.0000\n",
       "4         Castilla - La Mancha              2836.0000\n",
       "18            Región de Murcia              3588.2500\n",
       "9          Comunidad de Madrid              3851.2860"
      ]
     },
     "execution_count": 41,
     "metadata": {},
     "output_type": "execute_result"
    }
   ],
   "source": [
    "df_median.head(20).sort_values(by='complaints_per_murder')"
   ]
  },
  {
   "cell_type": "code",
   "execution_count": 42,
   "id": "94c0bfd5",
   "metadata": {},
   "outputs": [
    {
     "data": {
      "image/png": "[encoded data removed]",
      "text/plain": [
       "<Figure size 640x480 with 1 Axes>"
      ]
     },
     "metadata": {},
     "output_type": "display_data"
    },
    {
     "data": {
      "text/plain": [
       "<ggplot: (308923810)>"
      ]
     },
     "execution_count": 42,
     "metadata": {},
     "output_type": "execute_result"
    }
   ],
   "source": [
    "(\n",
    "    ggplot(df_median)\n",
    "    + aes(x='reorder(autonomous_community, -complaints_per_murder)', y='complaints_per_murder')\n",
    "    + geom_bar(stat='identity')\n",
    "    + coord_flip()\n",
    "     + labs(\n",
    "         title = \"Median number of police complaints per domestic murder since 2009\",\n",
    "         y = \"police complaints\",\n",
    "         x = \"autonomous communities\"\n",
    "     )\n",
    ")"
   ]
  },
  {
   "cell_type": "markdown",
   "id": "2f18354b",
   "metadata": {},
   "source": []
  }
 ],
 "metadata": {
  "kernelspec": {
   "display_name": "Python 3 (ipykernel)",
   "language": "python",
   "name": "python3"
  },
  "language_info": {
   "codemirror_mode": {
    "name": "ipython",
    "version": 3
   },
   "file_extension": ".py",
   "mimetype": "text/x-python",
   "name": "python",
   "nbconvert_exporter": "python",
   "pygments_lexer": "ipython3",
   "version": "3.10.0"
  }
 },
 "nbformat": 4,
 "nbformat_minor": 5
}
